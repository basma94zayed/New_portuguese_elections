{
 "cells": [
  {
   "cell_type": "code",
   "execution_count": 1,
   "metadata": {},
   "outputs": [],
   "source": [
    "import pandas as pd\n",
    "import numpy as np\n",
    "import seaborn as sns\n",
    "import matplotlib.pyplot as plt\n",
    "sns.set(rc={\"figure.figsize\":[12,10]},font_scale=1.5)\n",
    "pd.set_option(\"display.max_columns\",None)\n",
    "\n",
    "from datasist.structdata import detect_outliers\n",
    "from sklearn.linear_model import LinearRegression\n",
    "from sklearn.neighbors import KNeighborsRegressor\n",
    "import xgboost as xgb\n",
    "from sklearn.model_selection import GridSearchCV\n",
    "from sklearn.model_selection import RandomizedSearchCV\n",
    "from sklearn.metrics import mean_squared_error\n",
    "from xgboost import XGBRegressor\n",
    "from sklearn.ensemble import RandomForestRegressor\n",
    "from sklearn.svm import SVR\n",
    "from sklearn.tree import DecisionTreeRegressor\n",
    "from sklearn.metrics import r2_score \n",
    "from sklearn.feature_selection import SelectKBest\n",
    "from sklearn.feature_selection import f_regression"
   ]
  },
  {
   "cell_type": "code",
   "execution_count": 2,
   "metadata": {},
   "outputs": [
    {
     "name": "stdout",
     "output_type": "stream",
     "text": [
      "<class 'pandas.core.frame.DataFrame'>\n",
      "RangeIndex: 21643 entries, 0 to 21642\n",
      "Data columns (total 67 columns):\n",
      " #   Column                             Non-Null Count  Dtype  \n",
      "---  ------                             --------------  -----  \n",
      " 0   totalMandates                      21643 non-null  int64  \n",
      " 1   availableMandates                  21643 non-null  int64  \n",
      " 2   numParishes                        21643 non-null  int64  \n",
      " 3   numParishesApproved                21643 non-null  int64  \n",
      " 4   blankVotes                         21643 non-null  int64  \n",
      " 5   nullVotes                          21643 non-null  int64  \n",
      " 6   subscribedVoters                   21643 non-null  int64  \n",
      " 7   totalVoters                        21643 non-null  int64  \n",
      " 8   pre.blankVotes                     21643 non-null  int64  \n",
      " 9   pre.nullVotes                      21643 non-null  int64  \n",
      " 10  pre.subscribedVoters               21643 non-null  int64  \n",
      " 11  pre.totalVoters                    21643 non-null  int64  \n",
      " 12  Mandates                           21643 non-null  int64  \n",
      " 13  Percentage                         21643 non-null  float64\n",
      " 14  validVotesPercentage               21643 non-null  float64\n",
      " 15  Votes                              21643 non-null  int64  \n",
      " 16  Hondt                              21643 non-null  int64  \n",
      " 17  FinalMandates                      21643 non-null  int64  \n",
      " 18  year                               21643 non-null  int64  \n",
      " 19  month                              21643 non-null  int64  \n",
      " 20  day                                21643 non-null  int64  \n",
      " 21  hour                               21643 non-null  int64  \n",
      " 22  minutes                            21643 non-null  int64  \n",
      " 23  second                             21643 non-null  int64  \n",
      " 24  actual_votes_currently             21643 non-null  int64  \n",
      " 25  last_actual_votes                  21643 non-null  int64  \n",
      " 26  territoryName_Açores               21643 non-null  int64  \n",
      " 27  territoryName_Beja                 21643 non-null  int64  \n",
      " 28  territoryName_Braga                21643 non-null  int64  \n",
      " 29  territoryName_Bragança             21643 non-null  int64  \n",
      " 30  territoryName_Castelo Branco       21643 non-null  int64  \n",
      " 31  territoryName_Coimbra              21643 non-null  int64  \n",
      " 32  territoryName_Faro                 21643 non-null  int64  \n",
      " 33  territoryName_Guarda               21643 non-null  int64  \n",
      " 34  territoryName_Leiria               21643 non-null  int64  \n",
      " 35  territoryName_Lisboa               21643 non-null  int64  \n",
      " 36  territoryName_Madeira              21643 non-null  int64  \n",
      " 37  territoryName_Portalegre           21643 non-null  int64  \n",
      " 38  territoryName_Porto                21643 non-null  int64  \n",
      " 39  territoryName_Santarém             21643 non-null  int64  \n",
      " 40  territoryName_Setúbal              21643 non-null  int64  \n",
      " 41  territoryName_Território Nacional  21643 non-null  int64  \n",
      " 42  territoryName_Viana do Castelo     21643 non-null  int64  \n",
      " 43  territoryName_Vila Real            21643 non-null  int64  \n",
      " 44  territoryName_Viseu                21643 non-null  int64  \n",
      " 45  territoryName_Évora                21643 non-null  int64  \n",
      " 46  Party_B.E.                         21643 non-null  int64  \n",
      " 47  Party_CDS-PP                       21643 non-null  int64  \n",
      " 48  Party_CH                           21643 non-null  int64  \n",
      " 49  Party_IL                           21643 non-null  int64  \n",
      " 50  Party_JPP                          21643 non-null  int64  \n",
      " 51  Party_L                            21643 non-null  int64  \n",
      " 52  Party_MAS                          21643 non-null  int64  \n",
      " 53  Party_MPT                          21643 non-null  int64  \n",
      " 54  Party_NC                           21643 non-null  int64  \n",
      " 55  Party_PAN                          21643 non-null  int64  \n",
      " 56  Party_PCP-PEV                      21643 non-null  int64  \n",
      " 57  Party_PCTP/MRPP                    21643 non-null  int64  \n",
      " 58  Party_PDR                          21643 non-null  int64  \n",
      " 59  Party_PNR                          21643 non-null  int64  \n",
      " 60  Party_PPD/PSD                      21643 non-null  int64  \n",
      " 61  Party_PPM                          21643 non-null  int64  \n",
      " 62  Party_PS                           21643 non-null  int64  \n",
      " 63  Party_PTP                          21643 non-null  int64  \n",
      " 64  Party_PURP                         21643 non-null  int64  \n",
      " 65  Party_R.I.R.                       21643 non-null  int64  \n",
      " 66  day_name_Sunday                    21643 non-null  int64  \n",
      "dtypes: float64(2), int64(65)\n",
      "memory usage: 11.1 MB\n"
     ]
    }
   ],
   "source": [
    "outlier_df=pd.read_csv(\"D:\\project\\outlier_df\")\n",
    "outlier_df.info()\n"
   ]
  },
  {
   "cell_type": "code",
   "execution_count": 3,
   "metadata": {},
   "outputs": [
    {
     "data": {
      "text/plain": [
       "0"
      ]
     },
     "execution_count": 3,
     "metadata": {},
     "output_type": "execute_result"
    }
   ],
   "source": [
    "outlier_df.duplicated().sum()"
   ]
  },
  {
   "cell_type": "code",
   "execution_count": 4,
   "metadata": {},
   "outputs": [],
   "source": [
    "outlier_df.drop_duplicates(inplace=True)"
   ]
  },
  {
   "cell_type": "code",
   "execution_count": 5,
   "metadata": {},
   "outputs": [
    {
     "data": {
      "text/plain": [
       "totalMandates          0.0\n",
       "availableMandates      0.0\n",
       "numParishes            0.0\n",
       "numParishesApproved    0.0\n",
       "blankVotes             0.0\n",
       "                      ... \n",
       "Party_PS               0.0\n",
       "Party_PTP              0.0\n",
       "Party_PURP             0.0\n",
       "Party_R.I.R.           0.0\n",
       "day_name_Sunday        0.0\n",
       "Length: 67, dtype: float64"
      ]
     },
     "execution_count": 5,
     "metadata": {},
     "output_type": "execute_result"
    }
   ],
   "source": [
    "outlier_df.isna().mean()"
   ]
  },
  {
   "cell_type": "code",
   "execution_count": 6,
   "metadata": {},
   "outputs": [],
   "source": [
    "outlier_df.drop(columns=[\"totalMandates\",\"availableMandates\"],inplace=True)"
   ]
  },
  {
   "cell_type": "code",
   "execution_count": 7,
   "metadata": {},
   "outputs": [
    {
     "data": {
      "text/plain": [
       "numParishes            0\n",
       "numParishesApproved    0\n",
       "blankVotes             0\n",
       "nullVotes              0\n",
       "subscribedVoters       0\n",
       "                      ..\n",
       "Party_PS               0\n",
       "Party_PTP              0\n",
       "Party_PURP             0\n",
       "Party_R.I.R.           0\n",
       "day_name_Sunday        0\n",
       "Length: 65, dtype: int64"
      ]
     },
     "execution_count": 7,
     "metadata": {},
     "output_type": "execute_result"
    }
   ],
   "source": [
    "outlier_df.isna().sum()"
   ]
  },
  {
   "cell_type": "code",
   "execution_count": 8,
   "metadata": {},
   "outputs": [
    {
     "data": {
      "text/plain": [
       "count    21643.000000\n",
       "mean         1.126138\n",
       "std          6.872644\n",
       "min          0.000000\n",
       "25%          0.000000\n",
       "50%          0.000000\n",
       "75%          0.000000\n",
       "max        106.000000\n",
       "Name: FinalMandates, dtype: float64"
      ]
     },
     "execution_count": 8,
     "metadata": {},
     "output_type": "execute_result"
    }
   ],
   "source": [
    "outlier_df[\"FinalMandates\"].describe()"
   ]
  },
  {
   "cell_type": "code",
   "execution_count": 9,
   "metadata": {},
   "outputs": [],
   "source": [
    "outliers_copy=outlier_df.copy()"
   ]
  },
  {
   "cell_type": "code",
   "execution_count": 10,
   "metadata": {},
   "outputs": [
    {
     "data": {
      "text/plain": [
       "Index(['numParishes', 'numParishesApproved', 'blankVotes', 'nullVotes',\n",
       "       'subscribedVoters', 'totalVoters', 'pre.blankVotes', 'pre.nullVotes',\n",
       "       'pre.subscribedVoters', 'pre.totalVoters', 'Mandates', 'Percentage',\n",
       "       'validVotesPercentage', 'Votes', 'Hondt', 'FinalMandates', 'year',\n",
       "       'month', 'day', 'hour', 'minutes', 'second', 'actual_votes_currently',\n",
       "       'last_actual_votes', 'territoryName_Açores', 'territoryName_Beja',\n",
       "       'territoryName_Braga', 'territoryName_Bragança',\n",
       "       'territoryName_Castelo Branco', 'territoryName_Coimbra',\n",
       "       'territoryName_Faro', 'territoryName_Guarda', 'territoryName_Leiria',\n",
       "       'territoryName_Lisboa', 'territoryName_Madeira',\n",
       "       'territoryName_Portalegre', 'territoryName_Porto',\n",
       "       'territoryName_Santarém', 'territoryName_Setúbal',\n",
       "       'territoryName_Território Nacional', 'territoryName_Viana do Castelo',\n",
       "       'territoryName_Vila Real', 'territoryName_Viseu', 'territoryName_Évora',\n",
       "       'Party_B.E.', 'Party_CDS-PP', 'Party_CH', 'Party_IL', 'Party_JPP',\n",
       "       'Party_L', 'Party_MAS', 'Party_MPT', 'Party_NC', 'Party_PAN',\n",
       "       'Party_PCP-PEV', 'Party_PCTP/MRPP', 'Party_PDR', 'Party_PNR',\n",
       "       'Party_PPD/PSD', 'Party_PPM', 'Party_PS', 'Party_PTP', 'Party_PURP',\n",
       "       'Party_R.I.R.', 'day_name_Sunday'],\n",
       "      dtype='object')"
      ]
     },
     "execution_count": 10,
     "metadata": {},
     "output_type": "execute_result"
    }
   ],
   "source": [
    "outliers_copy.isna().mean().index"
   ]
  },
  {
   "cell_type": "markdown",
   "metadata": {},
   "source": [
    "-Impute nan values in numerical colunms"
   ]
  },
  {
   "cell_type": "code",
   "execution_count": 11,
   "metadata": {},
   "outputs": [],
   "source": [
    "numerical_col=['numParishes', 'numParishesApproved', 'blankVotes', 'nullVotes',\n",
    "       'subscribedVoters', 'totalVoters', 'pre.blankVotes', 'pre.nullVotes',\n",
    "       'pre.subscribedVoters', 'pre.totalVoters', 'Votes']"
   ]
  },
  {
   "cell_type": "code",
   "execution_count": 12,
   "metadata": {},
   "outputs": [],
   "source": [
    "categorical_col=['territoryName_Açores',\n",
    "       'territoryName_Beja', 'territoryName_Braga', 'territoryName_Bragança',\n",
    "       'territoryName_Castelo Branco', 'territoryName_Coimbra',\n",
    "       'territoryName_Faro', 'territoryName_Guarda', 'territoryName_Leiria',\n",
    "       'territoryName_Lisboa', 'territoryName_Madeira',\n",
    "       'territoryName_Portalegre', 'territoryName_Porto',\n",
    "       'territoryName_Santarém', 'territoryName_Setúbal',\n",
    "       'territoryName_Território Nacional', 'territoryName_Viana do Castelo',\n",
    "       'territoryName_Vila Real', 'territoryName_Viseu', 'territoryName_Évora',\n",
    "       'Party_B.E.', 'Party_CDS-PP', 'Party_CH', 'Party_IL', 'Party_JPP',\n",
    "       'Party_L', 'Party_MAS', 'Party_MPT', 'Party_NC', 'Party_PAN',\n",
    "       'Party_PCP-PEV', 'Party_PCTP/MRPP', 'Party_PDR', 'Party_PNR',\n",
    "       'Party_PPD/PSD', 'Party_PPM', 'Party_PS', 'Party_PTP', 'Party_PURP',\n",
    "       'Party_R.I.R.', 'day_name_Sunday']"
   ]
  },
  {
   "cell_type": "code",
   "execution_count": 15,
   "metadata": {},
   "outputs": [],
   "source": [
    "from sklearn.model_selection import train_test_split"
   ]
  },
  {
   "cell_type": "code",
   "execution_count": 16,
   "metadata": {},
   "outputs": [],
   "source": [
    "x=outliers_copy.drop(columns=[\"FinalMandates\"])\n",
    "y=outliers_copy[\"FinalMandates\"]"
   ]
  },
  {
   "cell_type": "code",
   "execution_count": 17,
   "metadata": {},
   "outputs": [],
   "source": [
    "x_train,x_test,y_train,y_test=train_test_split(x,y,test_size=0.25,random_state=42)"
   ]
  },
  {
   "cell_type": "markdown",
   "metadata": {},
   "source": [
    "-First impute x_train , y_train"
   ]
  },
  {
   "cell_type": "code",
   "execution_count": 18,
   "metadata": {},
   "outputs": [],
   "source": [
    "from sklearn.impute import SimpleImputer"
   ]
  },
  {
   "cell_type": "markdown",
   "metadata": {},
   "source": [
    "- Columns must be same length as key , so i should drop \"second \" columns which contains 0"
   ]
  },
  {
   "cell_type": "code",
   "execution_count": 19,
   "metadata": {},
   "outputs": [],
   "source": [
    "x_train.drop(columns=[\"second\"],inplace=True)"
   ]
  },
  {
   "cell_type": "markdown",
   "metadata": {},
   "source": [
    "-imputed x_train[\"numerical_col] by simple imputer , then should be imputed x_train [Categorical_col]"
   ]
  },
  {
   "cell_type": "code",
   "execution_count": 20,
   "metadata": {},
   "outputs": [],
   "source": [
    "imputer=SimpleImputer(strategy=\"most_frequent\")\n",
    "x_train[numerical_col]=imputer.fit_transform(x_train[numerical_col])"
   ]
  },
  {
   "cell_type": "code",
   "execution_count": 21,
   "metadata": {},
   "outputs": [
    {
     "data": {
      "text/plain": [
       "numParishes             0\n",
       "numParishesApproved     0\n",
       "blankVotes              0\n",
       "nullVotes               0\n",
       "subscribedVoters        0\n",
       "totalVoters             0\n",
       "pre.blankVotes          0\n",
       "pre.nullVotes           0\n",
       "pre.subscribedVoters    0\n",
       "pre.totalVoters         0\n",
       "Votes                   0\n",
       "dtype: int64"
      ]
     },
     "execution_count": 21,
     "metadata": {},
     "output_type": "execute_result"
    }
   ],
   "source": [
    "x_train[numerical_col].isna().sum()"
   ]
  },
  {
   "cell_type": "markdown",
   "metadata": {},
   "source": [
    "-Check for nan values in x_train"
   ]
  },
  {
   "cell_type": "code",
   "execution_count": 22,
   "metadata": {},
   "outputs": [
    {
     "data": {
      "text/plain": [
       "numParishes             0\n",
       "numParishesApproved     0\n",
       "blankVotes              0\n",
       "nullVotes               0\n",
       "subscribedVoters        0\n",
       "totalVoters             0\n",
       "pre.blankVotes          0\n",
       "pre.nullVotes           0\n",
       "pre.subscribedVoters    0\n",
       "pre.totalVoters         0\n",
       "Votes                   0\n",
       "dtype: int64"
      ]
     },
     "execution_count": 22,
     "metadata": {},
     "output_type": "execute_result"
    }
   ],
   "source": [
    "x_train[numerical_col].isna().sum()"
   ]
  },
  {
   "cell_type": "code",
   "execution_count": 23,
   "metadata": {},
   "outputs": [],
   "source": [
    "imputer_cate=SimpleImputer(strategy=\"most_frequent\")\n",
    "x_train[categorical_col]=imputer_cate.fit_transform(x_train[categorical_col])"
   ]
  },
  {
   "cell_type": "markdown",
   "metadata": {},
   "source": [
    "-now i gotten rid of nan values in x_train (numerical-categorical)"
   ]
  },
  {
   "cell_type": "code",
   "execution_count": 24,
   "metadata": {},
   "outputs": [
    {
     "data": {
      "text/plain": [
       "territoryName_Açores                 0\n",
       "territoryName_Beja                   0\n",
       "territoryName_Braga                  0\n",
       "territoryName_Bragança               0\n",
       "territoryName_Castelo Branco         0\n",
       "territoryName_Coimbra                0\n",
       "territoryName_Faro                   0\n",
       "territoryName_Guarda                 0\n",
       "territoryName_Leiria                 0\n",
       "territoryName_Lisboa                 0\n",
       "territoryName_Madeira                0\n",
       "territoryName_Portalegre             0\n",
       "territoryName_Porto                  0\n",
       "territoryName_Santarém               0\n",
       "territoryName_Setúbal                0\n",
       "territoryName_Território Nacional    0\n",
       "territoryName_Viana do Castelo       0\n",
       "territoryName_Vila Real              0\n",
       "territoryName_Viseu                  0\n",
       "territoryName_Évora                  0\n",
       "Party_B.E.                           0\n",
       "Party_CDS-PP                         0\n",
       "Party_CH                             0\n",
       "Party_IL                             0\n",
       "Party_JPP                            0\n",
       "Party_L                              0\n",
       "Party_MAS                            0\n",
       "Party_MPT                            0\n",
       "Party_NC                             0\n",
       "Party_PAN                            0\n",
       "Party_PCP-PEV                        0\n",
       "Party_PCTP/MRPP                      0\n",
       "Party_PDR                            0\n",
       "Party_PNR                            0\n",
       "Party_PPD/PSD                        0\n",
       "Party_PPM                            0\n",
       "Party_PS                             0\n",
       "Party_PTP                            0\n",
       "Party_PURP                           0\n",
       "Party_R.I.R.                         0\n",
       "day_name_Sunday                      0\n",
       "dtype: int64"
      ]
     },
     "execution_count": 24,
     "metadata": {},
     "output_type": "execute_result"
    }
   ],
   "source": [
    "x_train[categorical_col].isna().sum()"
   ]
  },
  {
   "cell_type": "markdown",
   "metadata": {},
   "source": [
    "-should be handled zeros values in colunms"
   ]
  },
  {
   "cell_type": "markdown",
   "metadata": {},
   "source": [
    "- First : x_train [numerical_col]\\\n",
    "    -x_train [numerical_col] : [Mandates ,Hondt ,hour ,minutes] that cotain almost 100 % zero values so should be dropped it"
   ]
  },
  {
   "cell_type": "code",
   "execution_count": 25,
   "metadata": {},
   "outputs": [
    {
     "data": {
      "text/plain": [
       "numParishes             0.0\n",
       "numParishesApproved     0.0\n",
       "blankVotes              0.0\n",
       "nullVotes               0.0\n",
       "subscribedVoters        0.0\n",
       "totalVoters             0.0\n",
       "pre.blankVotes          0.0\n",
       "pre.nullVotes           0.0\n",
       "pre.subscribedVoters    0.0\n",
       "pre.totalVoters         0.0\n",
       "Votes                   0.0\n",
       "dtype: float64"
      ]
     },
     "execution_count": 25,
     "metadata": {},
     "output_type": "execute_result"
    }
   ],
   "source": [
    "x_train[numerical_col].isin([0.0,0]).mean()"
   ]
  },
  {
   "cell_type": "markdown",
   "metadata": {},
   "source": [
    "- should be droped this columns because [\"Mandates\" ,\"Hondt\" ,\"hour\" ,\"minutes\"] columns = 0"
   ]
  },
  {
   "cell_type": "code",
   "execution_count": 26,
   "metadata": {},
   "outputs": [],
   "source": [
    "x_train.drop(columns=[\"Mandates\" ,\"Hondt\" ,\"hour\" ,\"minutes\"],inplace=True)"
   ]
  },
  {
   "cell_type": "code",
   "execution_count": 27,
   "metadata": {},
   "outputs": [],
   "source": [
    "x_train.drop(\"year\",axis=1,inplace=True)"
   ]
  },
  {
   "cell_type": "markdown",
   "metadata": {},
   "source": [
    "- Second: X_train [categorical_col]"
   ]
  },
  {
   "cell_type": "code",
   "execution_count": 28,
   "metadata": {},
   "outputs": [
    {
     "data": {
      "text/plain": [
       "territoryName_Açores                 0.963282\n",
       "territoryName_Beja                   0.959524\n",
       "territoryName_Braga                  0.946279\n",
       "territoryName_Bragança               0.954473\n",
       "territoryName_Castelo Branco         0.954041\n",
       "territoryName_Coimbra                0.951516\n",
       "territoryName_Faro                   0.952255\n",
       "territoryName_Guarda                 0.953857\n",
       "territoryName_Leiria                 0.946156\n",
       "territoryName_Lisboa                 0.951146\n",
       "territoryName_Madeira                0.949791\n",
       "territoryName_Portalegre             0.957738\n",
       "territoryName_Porto                  0.948558\n",
       "territoryName_Santarém               0.952070\n",
       "territoryName_Setúbal                0.950345\n",
       "territoryName_Território Nacional    0.948435\n",
       "territoryName_Viana do Castelo       0.949852\n",
       "territoryName_Vila Real              0.959709\n",
       "territoryName_Viseu                  0.949174\n",
       "territoryName_Évora                  0.952316\n",
       "Party_B.E.                           0.947881\n",
       "Party_CDS-PP                         0.947203\n",
       "Party_CH                             0.948620\n",
       "Party_IL                             0.948682\n",
       "Party_JPP                            0.976774\n",
       "Party_L                              0.948189\n",
       "Party_MAS                            0.980409\n",
       "Party_MPT                            0.951947\n",
       "Party_NC                             0.955582\n",
       "Party_PAN                            0.947018\n",
       "Party_PCP-PEV                        0.947881\n",
       "Party_PCTP/MRPP                      0.947758\n",
       "Party_PDR                            0.948682\n",
       "Party_PNR                            0.947141\n",
       "Party_PPD/PSD                        0.948312\n",
       "Party_PPM                            0.950776\n",
       "Party_PS                             0.948066\n",
       "Party_PTP                            0.951639\n",
       "Party_PURP                           0.955027\n",
       "Party_R.I.R.                         0.954041\n",
       "day_name_Sunday                      0.149519\n",
       "dtype: float64"
      ]
     },
     "execution_count": 28,
     "metadata": {},
     "output_type": "execute_result"
    }
   ],
   "source": [
    "x_train[categorical_col].isin([0.0,0]).mean()"
   ]
  },
  {
   "cell_type": "markdown",
   "metadata": {},
   "source": [
    "-i saw that all columns in x_train [ categorical columns] = 0 ,so i should drop it "
   ]
  },
  {
   "cell_type": "code",
   "execution_count": 29,
   "metadata": {},
   "outputs": [
    {
     "data": {
      "text/plain": [
       "Index(['territoryName_Açores', 'territoryName_Beja', 'territoryName_Braga',\n",
       "       'territoryName_Bragança', 'territoryName_Castelo Branco',\n",
       "       'territoryName_Coimbra', 'territoryName_Faro', 'territoryName_Guarda',\n",
       "       'territoryName_Leiria', 'territoryName_Lisboa', 'territoryName_Madeira',\n",
       "       'territoryName_Portalegre', 'territoryName_Porto',\n",
       "       'territoryName_Santarém', 'territoryName_Setúbal',\n",
       "       'territoryName_Território Nacional', 'territoryName_Viana do Castelo',\n",
       "       'territoryName_Vila Real', 'territoryName_Viseu', 'territoryName_Évora',\n",
       "       'Party_B.E.', 'Party_CDS-PP', 'Party_CH', 'Party_IL', 'Party_JPP',\n",
       "       'Party_L', 'Party_MAS', 'Party_MPT', 'Party_NC', 'Party_PAN',\n",
       "       'Party_PCP-PEV', 'Party_PCTP/MRPP', 'Party_PDR', 'Party_PNR',\n",
       "       'Party_PPD/PSD', 'Party_PPM', 'Party_PS', 'Party_PTP', 'Party_PURP',\n",
       "       'Party_R.I.R.', 'day_name_Sunday'],\n",
       "      dtype='object')"
      ]
     },
     "execution_count": 29,
     "metadata": {},
     "output_type": "execute_result"
    }
   ],
   "source": [
    "x_train[categorical_col].columns"
   ]
  },
  {
   "cell_type": "markdown",
   "metadata": {},
   "source": [
    "- Scaling x_train and transform it x_test \\\n",
    "    -I used to Robust scaler because it's equation based on median so doesn't effect with outliers in dataset"
   ]
  },
  {
   "cell_type": "code",
   "execution_count": 31,
   "metadata": {},
   "outputs": [],
   "source": [
    "from sklearn.preprocessing import RobustScaler"
   ]
  },
  {
   "cell_type": "code",
   "execution_count": 32,
   "metadata": {},
   "outputs": [],
   "source": [
    "scaler=RobustScaler()\n",
    "scaler.fit(x_train[numerical_col])\n",
    "x_train[numerical_col]=scaler.transform(x_train[numerical_col])"
   ]
  },
  {
   "cell_type": "markdown",
   "metadata": {},
   "source": [
    "- impute y_train"
   ]
  },
  {
   "cell_type": "markdown",
   "metadata": {},
   "source": [
    "-impute y_train with median and then handle it"
   ]
  },
  {
   "cell_type": "code",
   "execution_count": 33,
   "metadata": {},
   "outputs": [],
   "source": [
    "y_train=np.where (y_train.isna(),y_train.median(),y_train)"
   ]
  },
  {
   "cell_type": "code",
   "execution_count": 34,
   "metadata": {},
   "outputs": [
    {
     "data": {
      "text/plain": [
       "0.0      13375\n",
       "1.0        852\n",
       "2.0        521\n",
       "3.0        482\n",
       "4.0        280\n",
       "5.0        203\n",
       "8.0         82\n",
       "12.0        78\n",
       "19.0        45\n",
       "6.0         44\n",
       "17.0        42\n",
       "9.0         41\n",
       "7.0         40\n",
       "77.0        39\n",
       "20.0        38\n",
       "106.0       36\n",
       "15.0        34\n",
       "dtype: int64"
      ]
     },
     "execution_count": 34,
     "metadata": {},
     "output_type": "execute_result"
    }
   ],
   "source": [
    "y_train=pd.Series(y_train)\n",
    "y_train.value_counts()"
   ]
  },
  {
   "cell_type": "code",
   "execution_count": 35,
   "metadata": {},
   "outputs": [
    {
     "name": "stderr",
     "output_type": "stream",
     "text": [
      "c:\\ProgramData\\Anaonda3\\lib\\site-packages\\seaborn\\distributions.py:2619: FutureWarning: `distplot` is a deprecated function and will be removed in a future version. Please adapt your code to use either `displot` (a figure-level function with similar flexibility) or `histplot` (an axes-level function for histograms).\n",
      "  warnings.warn(msg, FutureWarning)\n"
     ]
    },
    {
     "data": {
      "text/plain": [
       "<AxesSubplot:ylabel='Density'>"
      ]
     },
     "execution_count": 35,
     "metadata": {},
     "output_type": "execute_result"
    },
    {
     "data": {
      "image/png": "[encoded data removed]",
      "text/plain": [
       "<Figure size 864x720 with 1 Axes>"
      ]
     },
     "metadata": {},
     "output_type": "display_data"
    }
   ],
   "source": [
    "sns.distplot(y_train)"
   ]
  },
  {
   "cell_type": "markdown",
   "metadata": {},
   "source": [
    "- apply all steps performed x_train columns on x_test columns to prevent leakage"
   ]
  },
  {
   "cell_type": "code",
   "execution_count": 36,
   "metadata": {},
   "outputs": [],
   "source": [
    "y_test=pd.Series(y_test)\n"
   ]
  },
  {
   "cell_type": "code",
   "execution_count": 37,
   "metadata": {},
   "outputs": [],
   "source": [
    "y_test=np.where (y_test.isna(),y_test.median(),y_test)"
   ]
  },
  {
   "cell_type": "code",
   "execution_count": 38,
   "metadata": {},
   "outputs": [],
   "source": [
    "x_test.drop(columns=[\"second\"],inplace=True)"
   ]
  },
  {
   "cell_type": "code",
   "execution_count": 39,
   "metadata": {},
   "outputs": [],
   "source": [
    "x_test.drop(columns=[\"Mandates\" ,\"Hondt\" ,\"hour\" ,\"minutes\"],inplace=True)"
   ]
  },
  {
   "cell_type": "code",
   "execution_count": 40,
   "metadata": {},
   "outputs": [],
   "source": [
    "x_test.drop(\"year\",axis=1,inplace=True)"
   ]
  },
  {
   "cell_type": "markdown",
   "metadata": {},
   "source": [
    "- apply x_train imputer on x_test dataset (numerical - categorical)"
   ]
  },
  {
   "cell_type": "code",
   "execution_count": 41,
   "metadata": {},
   "outputs": [],
   "source": [
    "x_test[numerical_col]=imputer.transform(x_test[numerical_col])"
   ]
  },
  {
   "cell_type": "code",
   "execution_count": 42,
   "metadata": {},
   "outputs": [
    {
     "data": {
      "text/plain": [
       "numParishes             0\n",
       "numParishesApproved     0\n",
       "blankVotes              0\n",
       "nullVotes               0\n",
       "subscribedVoters        0\n",
       "totalVoters             0\n",
       "pre.blankVotes          0\n",
       "pre.nullVotes           0\n",
       "pre.subscribedVoters    0\n",
       "pre.totalVoters         0\n",
       "Votes                   0\n",
       "dtype: int64"
      ]
     },
     "execution_count": 42,
     "metadata": {},
     "output_type": "execute_result"
    }
   ],
   "source": [
    "x_test[numerical_col].isna().sum()"
   ]
  },
  {
   "cell_type": "markdown",
   "metadata": {},
   "source": [
    "- x_train imputer for categorical data and transform it on x_test categorical dataset"
   ]
  },
  {
   "cell_type": "code",
   "execution_count": 89,
   "metadata": {},
   "outputs": [
    {
     "ename": "KeyError",
     "evalue": "\"None of [Index(['territoryName_Açores', 'territoryName_Beja', 'territoryName_Braga',\\n       'territoryName_Bragança', 'territoryName_Castelo Branco',\\n       'territoryName_Coimbra', 'territoryName_Faro', 'territoryName_Guarda',\\n       'territoryName_Leiria', 'territoryName_Lisboa', 'territoryName_Madeira',\\n       'territoryName_Portalegre', 'territoryName_Porto',\\n       'territoryName_Santarém', 'territoryName_Setúbal',\\n       'territoryName_Território Nacional', 'territoryName_Viana do Castelo',\\n       'territoryName_Vila Real', 'territoryName_Viseu', 'territoryName_Évora',\\n       'Party_B.E.', 'Party_CDS-PP', 'Party_CH', 'Party_IL', 'Party_JPP',\\n       'Party_L', 'Party_MAS', 'Party_MPT', 'Party_NC', 'Party_PAN',\\n       'Party_PCP-PEV', 'Party_PCTP/MRPP', 'Party_PDR', 'Party_PNR',\\n       'Party_PPD/PSD', 'Party_PPM', 'Party_PS', 'Party_PTP', 'Party_PURP',\\n       'Party_R.I.R.', 'day_name_Sunday'],\\n      dtype='object')] are in the [columns]\"",
     "output_type": "error",
     "traceback": [
      "\u001b[1;31m---------------------------------------------------------------------------\u001b[0m",
      "\u001b[1;31mKeyError\u001b[0m                                  Traceback (most recent call last)",
      "\u001b[1;32md:\\project\\outlier_df.ipynb Cell 57\u001b[0m in \u001b[0;36m<cell line: 2>\u001b[1;34m()\u001b[0m\n\u001b[0;32m      <a href='vscode-notebook-cell:/d%3A/project/outlier_df.ipynb#Y113sZmlsZQ%3D%3D?line=0'>1</a>\u001b[0m imputer_cate\u001b[39m=\u001b[39mSimpleImputer(strategy\u001b[39m=\u001b[39m\u001b[39m\"\u001b[39m\u001b[39mmost_frequent\u001b[39m\u001b[39m\"\u001b[39m)\n\u001b[1;32m----> <a href='vscode-notebook-cell:/d%3A/project/outlier_df.ipynb#Y113sZmlsZQ%3D%3D?line=1'>2</a>\u001b[0m x_train[categorical_col]\u001b[39m=\u001b[39mimputer_cate\u001b[39m.\u001b[39mfit_transform(x_train[categorical_col])\n",
      "File \u001b[1;32mc:\\ProgramData\\Anaonda3\\lib\\site-packages\\pandas\\core\\frame.py:3511\u001b[0m, in \u001b[0;36mDataFrame.__getitem__\u001b[1;34m(self, key)\u001b[0m\n\u001b[0;32m   3509\u001b[0m     \u001b[39mif\u001b[39;00m is_iterator(key):\n\u001b[0;32m   3510\u001b[0m         key \u001b[39m=\u001b[39m \u001b[39mlist\u001b[39m(key)\n\u001b[1;32m-> 3511\u001b[0m     indexer \u001b[39m=\u001b[39m \u001b[39mself\u001b[39;49m\u001b[39m.\u001b[39;49mcolumns\u001b[39m.\u001b[39;49m_get_indexer_strict(key, \u001b[39m\"\u001b[39;49m\u001b[39mcolumns\u001b[39;49m\u001b[39m\"\u001b[39;49m)[\u001b[39m1\u001b[39m]\n\u001b[0;32m   3513\u001b[0m \u001b[39m# take() does not accept boolean indexers\u001b[39;00m\n\u001b[0;32m   3514\u001b[0m \u001b[39mif\u001b[39;00m \u001b[39mgetattr\u001b[39m(indexer, \u001b[39m\"\u001b[39m\u001b[39mdtype\u001b[39m\u001b[39m\"\u001b[39m, \u001b[39mNone\u001b[39;00m) \u001b[39m==\u001b[39m \u001b[39mbool\u001b[39m:\n",
      "File \u001b[1;32mc:\\ProgramData\\Anaonda3\\lib\\site-packages\\pandas\\core\\indexes\\base.py:5782\u001b[0m, in \u001b[0;36mIndex._get_indexer_strict\u001b[1;34m(self, key, axis_name)\u001b[0m\n\u001b[0;32m   5779\u001b[0m \u001b[39melse\u001b[39;00m:\n\u001b[0;32m   5780\u001b[0m     keyarr, indexer, new_indexer \u001b[39m=\u001b[39m \u001b[39mself\u001b[39m\u001b[39m.\u001b[39m_reindex_non_unique(keyarr)\n\u001b[1;32m-> 5782\u001b[0m \u001b[39mself\u001b[39;49m\u001b[39m.\u001b[39;49m_raise_if_missing(keyarr, indexer, axis_name)\n\u001b[0;32m   5784\u001b[0m keyarr \u001b[39m=\u001b[39m \u001b[39mself\u001b[39m\u001b[39m.\u001b[39mtake(indexer)\n\u001b[0;32m   5785\u001b[0m \u001b[39mif\u001b[39;00m \u001b[39misinstance\u001b[39m(key, Index):\n\u001b[0;32m   5786\u001b[0m     \u001b[39m# GH 42790 - Preserve name from an Index\u001b[39;00m\n",
      "File \u001b[1;32mc:\\ProgramData\\Anaonda3\\lib\\site-packages\\pandas\\core\\indexes\\base.py:5842\u001b[0m, in \u001b[0;36mIndex._raise_if_missing\u001b[1;34m(self, key, indexer, axis_name)\u001b[0m\n\u001b[0;32m   5840\u001b[0m     \u001b[39mif\u001b[39;00m use_interval_msg:\n\u001b[0;32m   5841\u001b[0m         key \u001b[39m=\u001b[39m \u001b[39mlist\u001b[39m(key)\n\u001b[1;32m-> 5842\u001b[0m     \u001b[39mraise\u001b[39;00m \u001b[39mKeyError\u001b[39;00m(\u001b[39mf\u001b[39m\u001b[39m\"\u001b[39m\u001b[39mNone of [\u001b[39m\u001b[39m{\u001b[39;00mkey\u001b[39m}\u001b[39;00m\u001b[39m] are in the [\u001b[39m\u001b[39m{\u001b[39;00maxis_name\u001b[39m}\u001b[39;00m\u001b[39m]\u001b[39m\u001b[39m\"\u001b[39m)\n\u001b[0;32m   5844\u001b[0m not_found \u001b[39m=\u001b[39m \u001b[39mlist\u001b[39m(ensure_index(key)[missing_mask\u001b[39m.\u001b[39mnonzero()[\u001b[39m0\u001b[39m]]\u001b[39m.\u001b[39munique())\n\u001b[0;32m   5845\u001b[0m \u001b[39mraise\u001b[39;00m \u001b[39mKeyError\u001b[39;00m(\u001b[39mf\u001b[39m\u001b[39m\"\u001b[39m\u001b[39m{\u001b[39;00mnot_found\u001b[39m}\u001b[39;00m\u001b[39m not in index\u001b[39m\u001b[39m\"\u001b[39m)\n",
      "\u001b[1;31mKeyError\u001b[0m: \"None of [Index(['territoryName_Açores', 'territoryName_Beja', 'territoryName_Braga',\\n       'territoryName_Bragança', 'territoryName_Castelo Branco',\\n       'territoryName_Coimbra', 'territoryName_Faro', 'territoryName_Guarda',\\n       'territoryName_Leiria', 'territoryName_Lisboa', 'territoryName_Madeira',\\n       'territoryName_Portalegre', 'territoryName_Porto',\\n       'territoryName_Santarém', 'territoryName_Setúbal',\\n       'territoryName_Território Nacional', 'territoryName_Viana do Castelo',\\n       'territoryName_Vila Real', 'territoryName_Viseu', 'territoryName_Évora',\\n       'Party_B.E.', 'Party_CDS-PP', 'Party_CH', 'Party_IL', 'Party_JPP',\\n       'Party_L', 'Party_MAS', 'Party_MPT', 'Party_NC', 'Party_PAN',\\n       'Party_PCP-PEV', 'Party_PCTP/MRPP', 'Party_PDR', 'Party_PNR',\\n       'Party_PPD/PSD', 'Party_PPM', 'Party_PS', 'Party_PTP', 'Party_PURP',\\n       'Party_R.I.R.', 'day_name_Sunday'],\\n      dtype='object')] are in the [columns]\""
     ]
    }
   ],
   "source": [
    "imputer_cate=SimpleImputer(strategy=\"most_frequent\")\n",
    "x_train[categorical_col]=imputer_cate.fit_transform(x_train[categorical_col])"
   ]
  },
  {
   "cell_type": "code",
   "execution_count": 44,
   "metadata": {},
   "outputs": [],
   "source": [
    "y_train=pd.DataFrame(y_train,columns=[\"final_mandates\"])"
   ]
  },
  {
   "cell_type": "markdown",
   "metadata": {},
   "source": [
    "- apply imputer on x_test without fitting to prevent leakage"
   ]
  },
  {
   "cell_type": "code",
   "execution_count": 45,
   "metadata": {},
   "outputs": [],
   "source": [
    "x_test[categorical_col]=imputer_cate.transform(x_test[categorical_col])"
   ]
  },
  {
   "cell_type": "code",
   "execution_count": 46,
   "metadata": {},
   "outputs": [
    {
     "data": {
      "text/plain": [
       "territoryName_Açores                 0\n",
       "territoryName_Beja                   0\n",
       "territoryName_Braga                  0\n",
       "territoryName_Bragança               0\n",
       "territoryName_Castelo Branco         0\n",
       "territoryName_Coimbra                0\n",
       "territoryName_Faro                   0\n",
       "territoryName_Guarda                 0\n",
       "territoryName_Leiria                 0\n",
       "territoryName_Lisboa                 0\n",
       "territoryName_Madeira                0\n",
       "territoryName_Portalegre             0\n",
       "territoryName_Porto                  0\n",
       "territoryName_Santarém               0\n",
       "territoryName_Setúbal                0\n",
       "territoryName_Território Nacional    0\n",
       "territoryName_Viana do Castelo       0\n",
       "territoryName_Vila Real              0\n",
       "territoryName_Viseu                  0\n",
       "territoryName_Évora                  0\n",
       "Party_B.E.                           0\n",
       "Party_CDS-PP                         0\n",
       "Party_CH                             0\n",
       "Party_IL                             0\n",
       "Party_JPP                            0\n",
       "Party_L                              0\n",
       "Party_MAS                            0\n",
       "Party_MPT                            0\n",
       "Party_NC                             0\n",
       "Party_PAN                            0\n",
       "Party_PCP-PEV                        0\n",
       "Party_PCTP/MRPP                      0\n",
       "Party_PDR                            0\n",
       "Party_PNR                            0\n",
       "Party_PPD/PSD                        0\n",
       "Party_PPM                            0\n",
       "Party_PS                             0\n",
       "Party_PTP                            0\n",
       "Party_PURP                           0\n",
       "Party_R.I.R.                         0\n",
       "day_name_Sunday                      0\n",
       "dtype: int64"
      ]
     },
     "execution_count": 46,
     "metadata": {},
     "output_type": "execute_result"
    }
   ],
   "source": [
    "x_test[categorical_col].isna().sum()"
   ]
  },
  {
   "cell_type": "code",
   "execution_count": 47,
   "metadata": {},
   "outputs": [],
   "source": [
    "y_test=pd.DataFrame(y_test,columns=[\"final_mandates\"])"
   ]
  },
  {
   "cell_type": "markdown",
   "metadata": {},
   "source": [
    "- Scaling x_test by transformed train equation"
   ]
  },
  {
   "cell_type": "code",
   "execution_count": 48,
   "metadata": {},
   "outputs": [],
   "source": [
    "\n",
    "x_test[numerical_col]=scaler.transform(x_test[numerical_col])"
   ]
  },
  {
   "cell_type": "code",
   "execution_count": 49,
   "metadata": {},
   "outputs": [
    {
     "data": {
      "text/plain": [
       "Index(['territoryName_Açores', 'territoryName_Beja', 'territoryName_Braga',\n",
       "       'territoryName_Bragança', 'territoryName_Castelo Branco',\n",
       "       'territoryName_Coimbra', 'territoryName_Faro', 'territoryName_Guarda',\n",
       "       'territoryName_Leiria', 'territoryName_Lisboa', 'territoryName_Madeira',\n",
       "       'territoryName_Portalegre', 'territoryName_Porto',\n",
       "       'territoryName_Santarém', 'territoryName_Setúbal',\n",
       "       'territoryName_Território Nacional', 'territoryName_Viana do Castelo',\n",
       "       'territoryName_Vila Real', 'territoryName_Viseu', 'territoryName_Évora',\n",
       "       'Party_B.E.', 'Party_CDS-PP', 'Party_CH', 'Party_IL', 'Party_JPP',\n",
       "       'Party_L', 'Party_MAS', 'Party_MPT', 'Party_NC', 'Party_PAN',\n",
       "       'Party_PCP-PEV', 'Party_PCTP/MRPP', 'Party_PDR', 'Party_PNR',\n",
       "       'Party_PPD/PSD', 'Party_PPM', 'Party_PS', 'Party_PTP', 'Party_PURP',\n",
       "       'Party_R.I.R.', 'day_name_Sunday'],\n",
       "      dtype='object')"
      ]
     },
     "execution_count": 49,
     "metadata": {},
     "output_type": "execute_result"
    }
   ],
   "source": [
    "x_train[categorical_col].columns"
   ]
  },
  {
   "cell_type": "code",
   "execution_count": 50,
   "metadata": {},
   "outputs": [],
   "source": [
    "x_train.drop(columns=x_train[categorical_col].columns,inplace=True)"
   ]
  },
  {
   "cell_type": "code",
   "execution_count": 51,
   "metadata": {},
   "outputs": [],
   "source": [
    "x_test.drop(columns=x_test[categorical_col].columns,inplace=True)"
   ]
  },
  {
   "cell_type": "code",
   "execution_count": 52,
   "metadata": {},
   "outputs": [],
   "source": [
    "dic_regressor_1_={\"linear\":LinearRegression(),\"Knn\":KNeighborsRegressor(),\"xgboost\":XGBRegressor(),\"random_forest\":RandomForestRegressor(),\"svr\":SVR(),\"decision_tree\":DecisionTreeRegressor()}"
   ]
  },
  {
   "cell_type": "code",
   "execution_count": 53,
   "metadata": {},
   "outputs": [
    {
     "data": {
      "text/plain": [
       "((16232, 17), (5411, 17))"
      ]
     },
     "execution_count": 53,
     "metadata": {},
     "output_type": "execute_result"
    }
   ],
   "source": [
    "x_train.shape,x_test.shape"
   ]
  },
  {
   "cell_type": "code",
   "execution_count": 54,
   "metadata": {},
   "outputs": [
    {
     "data": {
      "text/plain": [
       "(16232, 1)"
      ]
     },
     "execution_count": 54,
     "metadata": {},
     "output_type": "execute_result"
    }
   ],
   "source": [
    "y_train.shape"
   ]
  },
  {
   "cell_type": "code",
   "execution_count": 55,
   "metadata": {},
   "outputs": [
    {
     "data": {
      "text/html": [
       "<div>\n",
       "<style scoped>\n",
       "    .dataframe tbody tr th:only-of-type {\n",
       "        vertical-align: middle;\n",
       "    }\n",
       "\n",
       "    .dataframe tbody tr th {\n",
       "        vertical-align: top;\n",
       "    }\n",
       "\n",
       "    .dataframe thead th {\n",
       "        text-align: right;\n",
       "    }\n",
       "</style>\n",
       "<table border=\"1\" class=\"dataframe\">\n",
       "  <thead>\n",
       "    <tr style=\"text-align: right;\">\n",
       "      <th></th>\n",
       "      <th>numParishes</th>\n",
       "      <th>numParishesApproved</th>\n",
       "      <th>blankVotes</th>\n",
       "      <th>nullVotes</th>\n",
       "      <th>subscribedVoters</th>\n",
       "      <th>totalVoters</th>\n",
       "      <th>pre.blankVotes</th>\n",
       "      <th>pre.nullVotes</th>\n",
       "      <th>pre.subscribedVoters</th>\n",
       "      <th>pre.totalVoters</th>\n",
       "      <th>Percentage</th>\n",
       "      <th>validVotesPercentage</th>\n",
       "      <th>Votes</th>\n",
       "      <th>month</th>\n",
       "      <th>day</th>\n",
       "      <th>actual_votes_currently</th>\n",
       "      <th>last_actual_votes</th>\n",
       "    </tr>\n",
       "  </thead>\n",
       "  <tbody>\n",
       "    <tr>\n",
       "      <th>17034</th>\n",
       "      <td>-0.221557</td>\n",
       "      <td>-0.070922</td>\n",
       "      <td>0.912822</td>\n",
       "      <td>0.974633</td>\n",
       "      <td>0.722383</td>\n",
       "      <td>0.817993</td>\n",
       "      <td>0.897479</td>\n",
       "      <td>0.899754</td>\n",
       "      <td>0.738702</td>\n",
       "      <td>0.811262</td>\n",
       "      <td>0.17</td>\n",
       "      <td>0.18</td>\n",
       "      <td>-0.092955</td>\n",
       "      <td>10</td>\n",
       "      <td>6</td>\n",
       "      <td>428323</td>\n",
       "      <td>435402</td>\n",
       "    </tr>\n",
       "    <tr>\n",
       "      <th>8522</th>\n",
       "      <td>-0.479042</td>\n",
       "      <td>-0.397163</td>\n",
       "      <td>0.237678</td>\n",
       "      <td>0.159546</td>\n",
       "      <td>0.391080</td>\n",
       "      <td>0.317726</td>\n",
       "      <td>0.245676</td>\n",
       "      <td>0.193458</td>\n",
       "      <td>0.366787</td>\n",
       "      <td>0.360852</td>\n",
       "      <td>0.96</td>\n",
       "      <td>1.01</td>\n",
       "      <td>0.158199</td>\n",
       "      <td>10</td>\n",
       "      <td>6</td>\n",
       "      <td>336721</td>\n",
       "      <td>331936</td>\n",
       "    </tr>\n",
       "    <tr>\n",
       "      <th>9169</th>\n",
       "      <td>17.634731</td>\n",
       "      <td>19.858156</td>\n",
       "      <td>15.582179</td>\n",
       "      <td>20.660547</td>\n",
       "      <td>23.868285</td>\n",
       "      <td>22.874694</td>\n",
       "      <td>15.647843</td>\n",
       "      <td>20.649314</td>\n",
       "      <td>23.744489</td>\n",
       "      <td>22.242638</td>\n",
       "      <td>0.16</td>\n",
       "      <td>0.17</td>\n",
       "      <td>1.121894</td>\n",
       "      <td>10</td>\n",
       "      <td>6</td>\n",
       "      <td>6531048</td>\n",
       "      <td>6644791</td>\n",
       "    </tr>\n",
       "    <tr>\n",
       "      <th>7315</th>\n",
       "      <td>-0.479042</td>\n",
       "      <td>-0.404255</td>\n",
       "      <td>0.221365</td>\n",
       "      <td>0.137183</td>\n",
       "      <td>0.362300</td>\n",
       "      <td>0.292505</td>\n",
       "      <td>0.231298</td>\n",
       "      <td>0.172353</td>\n",
       "      <td>0.339815</td>\n",
       "      <td>0.335437</td>\n",
       "      <td>0.81</td>\n",
       "      <td>0.85</td>\n",
       "      <td>0.099503</td>\n",
       "      <td>10</td>\n",
       "      <td>6</td>\n",
       "      <td>329150</td>\n",
       "      <td>324676</td>\n",
       "    </tr>\n",
       "    <tr>\n",
       "      <th>3537</th>\n",
       "      <td>0.053892</td>\n",
       "      <td>-0.517730</td>\n",
       "      <td>-0.398351</td>\n",
       "      <td>-0.681909</td>\n",
       "      <td>-0.747804</td>\n",
       "      <td>-0.637982</td>\n",
       "      <td>-0.420088</td>\n",
       "      <td>-0.656349</td>\n",
       "      <td>-0.726814</td>\n",
       "      <td>-0.597825</td>\n",
       "      <td>0.59</td>\n",
       "      <td>0.63</td>\n",
       "      <td>-0.163110</td>\n",
       "      <td>10</td>\n",
       "      <td>6</td>\n",
       "      <td>37309</td>\n",
       "      <td>37190</td>\n",
       "    </tr>\n",
       "    <tr>\n",
       "      <th>...</th>\n",
       "      <td>...</td>\n",
       "      <td>...</td>\n",
       "      <td>...</td>\n",
       "      <td>...</td>\n",
       "      <td>...</td>\n",
       "      <td>...</td>\n",
       "      <td>...</td>\n",
       "      <td>...</td>\n",
       "      <td>...</td>\n",
       "      <td>...</td>\n",
       "      <td>...</td>\n",
       "      <td>...</td>\n",
       "      <td>...</td>\n",
       "      <td>...</td>\n",
       "      <td>...</td>\n",
       "      <td>...</td>\n",
       "      <td>...</td>\n",
       "    </tr>\n",
       "    <tr>\n",
       "      <th>11964</th>\n",
       "      <td>0.778443</td>\n",
       "      <td>1.113475</td>\n",
       "      <td>0.349588</td>\n",
       "      <td>0.491322</td>\n",
       "      <td>0.462532</td>\n",
       "      <td>0.500073</td>\n",
       "      <td>0.341738</td>\n",
       "      <td>0.524446</td>\n",
       "      <td>0.542513</td>\n",
       "      <td>0.509185</td>\n",
       "      <td>0.20</td>\n",
       "      <td>0.21</td>\n",
       "      <td>-0.098802</td>\n",
       "      <td>10</td>\n",
       "      <td>6</td>\n",
       "      <td>356752</td>\n",
       "      <td>379798</td>\n",
       "    </tr>\n",
       "    <tr>\n",
       "      <th>21575</th>\n",
       "      <td>-0.550898</td>\n",
       "      <td>-0.460993</td>\n",
       "      <td>0.910893</td>\n",
       "      <td>1.270360</td>\n",
       "      <td>1.971748</td>\n",
       "      <td>2.007758</td>\n",
       "      <td>0.972286</td>\n",
       "      <td>1.421738</td>\n",
       "      <td>1.881901</td>\n",
       "      <td>1.982751</td>\n",
       "      <td>1.05</td>\n",
       "      <td>1.08</td>\n",
       "      <td>0.784683</td>\n",
       "      <td>10</td>\n",
       "      <td>7</td>\n",
       "      <td>750912</td>\n",
       "      <td>739493</td>\n",
       "    </tr>\n",
       "    <tr>\n",
       "      <th>5390</th>\n",
       "      <td>-0.467066</td>\n",
       "      <td>-0.432624</td>\n",
       "      <td>-0.393966</td>\n",
       "      <td>-0.522363</td>\n",
       "      <td>-0.633560</td>\n",
       "      <td>-0.492232</td>\n",
       "      <td>-0.387164</td>\n",
       "      <td>-0.549420</td>\n",
       "      <td>-0.602119</td>\n",
       "      <td>-0.443270</td>\n",
       "      <td>45.42</td>\n",
       "      <td>47.37</td>\n",
       "      <td>3.487518</td>\n",
       "      <td>10</td>\n",
       "      <td>6</td>\n",
       "      <td>67230</td>\n",
       "      <td>70620</td>\n",
       "    </tr>\n",
       "    <tr>\n",
       "      <th>860</th>\n",
       "      <td>0.473054</td>\n",
       "      <td>-0.170213</td>\n",
       "      <td>-0.478863</td>\n",
       "      <td>-0.637183</td>\n",
       "      <td>-0.761773</td>\n",
       "      <td>-0.634211</td>\n",
       "      <td>-0.485518</td>\n",
       "      <td>-0.640169</td>\n",
       "      <td>-0.729330</td>\n",
       "      <td>-0.595882</td>\n",
       "      <td>0.38</td>\n",
       "      <td>0.39</td>\n",
       "      <td>-0.169424</td>\n",
       "      <td>10</td>\n",
       "      <td>6</td>\n",
       "      <td>33387</td>\n",
       "      <td>36257</td>\n",
       "    </tr>\n",
       "    <tr>\n",
       "      <th>15795</th>\n",
       "      <td>0.568862</td>\n",
       "      <td>0.865248</td>\n",
       "      <td>-0.170496</td>\n",
       "      <td>-0.058411</td>\n",
       "      <td>-0.300654</td>\n",
       "      <td>-0.200337</td>\n",
       "      <td>-0.188789</td>\n",
       "      <td>-0.054168</td>\n",
       "      <td>-0.245983</td>\n",
       "      <td>-0.157011</td>\n",
       "      <td>0.60</td>\n",
       "      <td>0.64</td>\n",
       "      <td>-0.074013</td>\n",
       "      <td>10</td>\n",
       "      <td>6</td>\n",
       "      <td>155618</td>\n",
       "      <td>167138</td>\n",
       "    </tr>\n",
       "  </tbody>\n",
       "</table>\n",
       "<p>16232 rows × 17 columns</p>\n",
       "</div>"
      ],
      "text/plain": [
       "       numParishes  numParishesApproved  blankVotes  nullVotes  \\\n",
       "17034    -0.221557            -0.070922    0.912822   0.974633   \n",
       "8522     -0.479042            -0.397163    0.237678   0.159546   \n",
       "9169     17.634731            19.858156   15.582179  20.660547   \n",
       "7315     -0.479042            -0.404255    0.221365   0.137183   \n",
       "3537      0.053892            -0.517730   -0.398351  -0.681909   \n",
       "...            ...                  ...         ...        ...   \n",
       "11964     0.778443             1.113475    0.349588   0.491322   \n",
       "21575    -0.550898            -0.460993    0.910893   1.270360   \n",
       "5390     -0.467066            -0.432624   -0.393966  -0.522363   \n",
       "860       0.473054            -0.170213   -0.478863  -0.637183   \n",
       "15795     0.568862             0.865248   -0.170496  -0.058411   \n",
       "\n",
       "       subscribedVoters  totalVoters  pre.blankVotes  pre.nullVotes  \\\n",
       "17034          0.722383     0.817993        0.897479       0.899754   \n",
       "8522           0.391080     0.317726        0.245676       0.193458   \n",
       "9169          23.868285    22.874694       15.647843      20.649314   \n",
       "7315           0.362300     0.292505        0.231298       0.172353   \n",
       "3537          -0.747804    -0.637982       -0.420088      -0.656349   \n",
       "...                 ...          ...             ...            ...   \n",
       "11964          0.462532     0.500073        0.341738       0.524446   \n",
       "21575          1.971748     2.007758        0.972286       1.421738   \n",
       "5390          -0.633560    -0.492232       -0.387164      -0.549420   \n",
       "860           -0.761773    -0.634211       -0.485518      -0.640169   \n",
       "15795         -0.300654    -0.200337       -0.188789      -0.054168   \n",
       "\n",
       "       pre.subscribedVoters  pre.totalVoters  Percentage  \\\n",
       "17034              0.738702         0.811262        0.17   \n",
       "8522               0.366787         0.360852        0.96   \n",
       "9169              23.744489        22.242638        0.16   \n",
       "7315               0.339815         0.335437        0.81   \n",
       "3537              -0.726814        -0.597825        0.59   \n",
       "...                     ...              ...         ...   \n",
       "11964              0.542513         0.509185        0.20   \n",
       "21575              1.881901         1.982751        1.05   \n",
       "5390              -0.602119        -0.443270       45.42   \n",
       "860               -0.729330        -0.595882        0.38   \n",
       "15795             -0.245983        -0.157011        0.60   \n",
       "\n",
       "       validVotesPercentage     Votes  month  day  actual_votes_currently  \\\n",
       "17034                  0.18 -0.092955     10    6                  428323   \n",
       "8522                   1.01  0.158199     10    6                  336721   \n",
       "9169                   0.17  1.121894     10    6                 6531048   \n",
       "7315                   0.85  0.099503     10    6                  329150   \n",
       "3537                   0.63 -0.163110     10    6                   37309   \n",
       "...                     ...       ...    ...  ...                     ...   \n",
       "11964                  0.21 -0.098802     10    6                  356752   \n",
       "21575                  1.08  0.784683     10    7                  750912   \n",
       "5390                  47.37  3.487518     10    6                   67230   \n",
       "860                    0.39 -0.169424     10    6                   33387   \n",
       "15795                  0.64 -0.074013     10    6                  155618   \n",
       "\n",
       "       last_actual_votes  \n",
       "17034             435402  \n",
       "8522              331936  \n",
       "9169             6644791  \n",
       "7315              324676  \n",
       "3537               37190  \n",
       "...                  ...  \n",
       "11964             379798  \n",
       "21575             739493  \n",
       "5390               70620  \n",
       "860                36257  \n",
       "15795             167138  \n",
       "\n",
       "[16232 rows x 17 columns]"
      ]
     },
     "execution_count": 55,
     "metadata": {},
     "output_type": "execute_result"
    }
   ],
   "source": [
    "x_train"
   ]
  },
  {
   "cell_type": "code",
   "execution_count": 56,
   "metadata": {},
   "outputs": [
    {
     "name": "stdout",
     "output_type": "stream",
     "text": [
      "name :linear\n",
      "accuracy :0.815304165334085\n",
      "accuracy train:0.8181069214106916\n",
      "____________________\n",
      "name :Knn\n",
      "accuracy :0.48479111353879056\n",
      "accuracy train:0.7905005943206141\n",
      "____________________\n",
      "name :xgboost\n",
      "accuracy :0.9680725567692468\n",
      "accuracy train:0.999962009086134\n",
      "____________________\n"
     ]
    },
    {
     "name": "stderr",
     "output_type": "stream",
     "text": [
      "C:\\Users\\Noureen\\AppData\\Local\\Temp\\ipykernel_8004\\1890307064.py:2: DataConversionWarning: A column-vector y was passed when a 1d array was expected. Please change the shape of y to (n_samples,), for example using ravel().\n",
      "  model_1.fit(x_train,y_train)\n"
     ]
    },
    {
     "name": "stdout",
     "output_type": "stream",
     "text": [
      "name :random_forest\n",
      "accuracy :0.9528408320354805\n",
      "accuracy train:0.9982882475565066\n",
      "____________________\n"
     ]
    },
    {
     "name": "stderr",
     "output_type": "stream",
     "text": [
      "c:\\ProgramData\\Anaonda3\\lib\\site-packages\\sklearn\\utils\\validation.py:993: DataConversionWarning: A column-vector y was passed when a 1d array was expected. Please change the shape of y to (n_samples, ), for example using ravel().\n",
      "  y = column_or_1d(y, warn=True)\n"
     ]
    },
    {
     "name": "stdout",
     "output_type": "stream",
     "text": [
      "name :svr\n",
      "accuracy :-0.022567094508797014\n",
      "accuracy train:-0.022314444243310305\n",
      "____________________\n",
      "name :decision_tree\n",
      "accuracy :0.9641803691434825\n",
      "accuracy train:0.9999961477469261\n",
      "____________________\n"
     ]
    }
   ],
   "source": [
    "for name_1,model_1 in dic_regressor_1_.items():\n",
    "    model_1.fit(x_train,y_train)\n",
    "    prediction1=model_1.predict(x_test)\n",
    "    predict_train1=model_1.predict(x_train)\n",
    "\n",
    "    print(f\"name :{name_1}\")\n",
    "    print(f\"accuracy :{r2_score(y_test,prediction1)}\")\n",
    "    print(f\"accuracy train:{r2_score(y_train,predict_train1)}\")\n",
    "    print (\"_\"*20)"
   ]
  },
  {
   "cell_type": "markdown",
   "metadata": {},
   "source": [
    "#### Optimization for some models "
   ]
  },
  {
   "cell_type": "code",
   "execution_count": 60,
   "metadata": {},
   "outputs": [],
   "source": [
    "outlier_copy_df=pd.DataFrame(outliers_copy.columns)"
   ]
  },
  {
   "attachments": {},
   "cell_type": "markdown",
   "metadata": {},
   "source": [
    "I have used  GRIDSEARCH CROSS VALIDATION with XGBREGRESSOR to determine the best paramerters and recover the overfitting"
   ]
  },
  {
   "cell_type": "code",
   "execution_count": 72,
   "metadata": {},
   "outputs": [],
   "source": [
    "params = { 'max_depth': [3,6,10],\n",
    "           'learning_rate': [0.01, 0.05, 0.1],\n",
    "           'n_estimators': [100, 500, 1000],\n",
    "           'colsample_bytree': [0.3, 0.7]}"
   ]
  },
  {
   "cell_type": "code",
   "execution_count": 73,
   "metadata": {},
   "outputs": [
    {
     "name": "stdout",
     "output_type": "stream",
     "text": [
      " the best parameters {'colsample_bytree': 0.3, 'learning_rate': 0.1, 'max_depth': 3, 'n_estimators': 1000}\n",
      "the lowest rmse-0.18381024928554046\n"
     ]
    }
   ],
   "source": [
    "mode19=XGBRegressor(seed=100)\n",
    "gri_search=GridSearchCV(mode19,param_grid=params,scoring='neg_mean_squared_error')\n",
    "gri_search.fit(x_train,y_train)\n",
    "print(f\" the best parameters {gri_search.best_params_}\")\n",
    "print(f\"the lowest rmse{gri_search.best_score_}\")"
   ]
  },
  {
   "cell_type": "code",
   "execution_count": 94,
   "metadata": {},
   "outputs": [
    {
     "name": "stdout",
     "output_type": "stream",
     "text": [
      " test :0.9891034524182818\n",
      " train :0.9991241725510928\n"
     ]
    }
   ],
   "source": [
    "model7=XGBRegressor(colsample_bytree= 0.3, learning_rate= 0.1, max_depth= 3, n_estimators= 1000)\n",
    "model7.fit(x_train,y_train)\n",
    "predict7=model7.predict(x_test)\n",
    "train_predic7=model7.predict(x_train)\n",
    "print(f\" test :{r2_score(y_test,predict7)}\")\n",
    "print(f\" train :{r2_score(y_train,train_predic7)}\")"
   ]
  },
  {
   "attachments": {},
   "cell_type": "markdown",
   "metadata": {},
   "source": [
    "-I used  RandomizedSearch CV with RANDONFORESTREGRESSOR to fit on data , I created Grid cv to choose the best parameters for model"
   ]
  },
  {
   "cell_type": "code",
   "execution_count": 79,
   "metadata": {},
   "outputs": [],
   "source": [
    "n_estimator=[int(i) for i in np.linspace(200,2000,10)]\n",
    "max_features=['auto', 'sqrt']\n",
    "max_depth=[int(i) for i in  np.linspace(10,100,10)]\n",
    "min_samples_split = [2, 5, 10]\n",
    "min_samples_leaf = [1, 2, 4]\n",
    "bootstrap = [True, False]\n"
   ]
  },
  {
   "cell_type": "code",
   "execution_count": 80,
   "metadata": {},
   "outputs": [],
   "source": [
    "rendomized_grid={\"n_estimators\":n_estimator,\n",
    "\"max_features\":max_features,\n",
    "\"max_depth\":max_depth,\n",
    "\"min_samples_split\":min_samples_split,\n",
    "\"min_samples_leaf\":min_samples_leaf,\n",
    "\"bootstrap\":bootstrap}"
   ]
  },
  {
   "cell_type": "code",
   "execution_count": 81,
   "metadata": {},
   "outputs": [
    {
     "name": "stderr",
     "output_type": "stream",
     "text": [
      "c:\\ProgramData\\Anaonda3\\lib\\site-packages\\sklearn\\model_selection\\_search.py:926: DataConversionWarning: A column-vector y was passed when a 1d array was expected. Please change the shape of y to (n_samples,), for example using ravel().\n",
      "  self.best_estimator_.fit(X, y, **fit_params)\n"
     ]
    },
    {
     "data": {
      "text/plain": [
       "RandomizedSearchCV(cv=3, estimator=RandomForestRegressor(), n_iter=50,\n",
       "                   n_jobs=-1,\n",
       "                   param_distributions={'bootstrap': [True, False],\n",
       "                                        'max_depth': [10, 20, 30, 40, 50, 60,\n",
       "                                                      70, 80, 90, 100],\n",
       "                                        'max_features': ['auto', 'sqrt'],\n",
       "                                        'min_samples_leaf': [1, 2, 4],\n",
       "                                        'min_samples_split': [2, 5, 10],\n",
       "                                        'n_estimators': [200, 400, 600, 800,\n",
       "                                                         1000, 1200, 1400, 1600,\n",
       "                                                         1800, 2000]},\n",
       "                   random_state=42)"
      ]
     },
     "execution_count": 81,
     "metadata": {},
     "output_type": "execute_result"
    }
   ],
   "source": [
    "model12=RandomForestRegressor()\n",
    "randomized_valid=RandomizedSearchCV(estimator=model12,param_distributions=rendomized_grid,n_iter=50,cv=3,random_state=42,n_jobs = -1)\n",
    "randomized_valid.fit(x_train,y_train)"
   ]
  },
  {
   "cell_type": "markdown",
   "metadata": {},
   "source": [
    "- I created evaluate function to calculate percentage of model's errors and accuracy for both (train , test )"
   ]
  },
  {
   "cell_type": "code",
   "execution_count": 82,
   "metadata": {},
   "outputs": [],
   "source": [
    "def evaluate(model,x_test,y_test):\n",
    "    prediction=model.predict(x_test)\n",
    "    errors=abs(prediction-y_test)\n",
    "    percent_error=100*np.mean(errors/y_test)\n",
    "    accuracy=r2_score(y_test,prediction)\n",
    "    predicted_train=model.predict(x_train)\n",
    "    accuracy_train=r2_score(y_train,predicted_train)\n",
    "\n",
    "    print('Model Performance')\n",
    "    print('Average Error: {:0.4f} degrees.'.format(np.mean(errors)))\n",
    "    print(f\"accuracy : {accuracy}\")\n",
    "    print(f\"accuracy_train : {accuracy_train}\")\n",
    "\n",
    "\n"
   ]
  },
  {
   "cell_type": "markdown",
   "metadata": {},
   "source": [
    "- the best parameters for model"
   ]
  },
  {
   "cell_type": "code",
   "execution_count": 83,
   "metadata": {},
   "outputs": [
    {
     "data": {
      "text/plain": [
       "{'n_estimators': 1200,\n",
       " 'min_samples_split': 2,\n",
       " 'min_samples_leaf': 1,\n",
       " 'max_features': 'sqrt',\n",
       " 'max_depth': 100,\n",
       " 'bootstrap': False}"
      ]
     },
     "execution_count": 83,
     "metadata": {},
     "output_type": "execute_result"
    }
   ],
   "source": [
    "randomized_valid.best_params_"
   ]
  },
  {
   "cell_type": "code",
   "execution_count": 100,
   "metadata": {},
   "outputs": [
    {
     "name": "stderr",
     "output_type": "stream",
     "text": [
      "C:\\Users\\Noureen\\AppData\\Local\\Temp\\ipykernel_8004\\3698559740.py:2: DataConversionWarning: A column-vector y was passed when a 1d array was expected. Please change the shape of y to (n_samples,), for example using ravel().\n",
      "  model_random_for.fit(x_train,y_train)\n"
     ]
    },
    {
     "name": "stdout",
     "output_type": "stream",
     "text": [
      " test :0.9934879823320084\n",
      " train :0.9999961477469261\n"
     ]
    }
   ],
   "source": [
    "model_random_for=RandomForestRegressor(n_estimators=1200,min_samples_split=2,min_samples_leaf=1,max_features=\"sqrt\",max_depth=100,bootstrap=False,random_state=42)\n",
    "model_random_for.fit(x_train,y_train)\n",
    "random_prediction=model_random_for.predict(x_test)\n",
    "train_prediction=model_random_for.predict(x_train)\n",
    "print(f\" test :{r2_score(y_test,random_prediction)}\")\n",
    "print(f\" train :{r2_score(y_train,train_prediction)}\")"
   ]
  },
  {
   "attachments": {},
   "cell_type": "markdown",
   "metadata": {},
   "source": [
    "-I used the last parameters as a best but generated overfitting"
   ]
  },
  {
   "cell_type": "code",
   "execution_count": 139,
   "metadata": {},
   "outputs": [],
   "source": [
    "model13=RandomForestRegressor(n_estimators=1000,min_samples_split= 4,\n",
    " min_samples_leaf=4,\n",
    " max_features= 'sqrt',\n",
    " max_depth=95,\n",
    " bootstrap= False, max_leaf_nodes=5)"
   ]
  },
  {
   "cell_type": "code",
   "execution_count": 140,
   "metadata": {},
   "outputs": [
    {
     "name": "stderr",
     "output_type": "stream",
     "text": [
      "C:\\Users\\Noureen\\AppData\\Local\\Temp\\ipykernel_8004\\997364345.py:1: DataConversionWarning: A column-vector y was passed when a 1d array was expected. Please change the shape of y to (n_samples,), for example using ravel().\n",
      "  model13.fit(x_train,y_train)\n"
     ]
    },
    {
     "data": {
      "text/plain": [
       "RandomForestRegressor(bootstrap=False, max_depth=95, max_features='sqrt',\n",
       "                      max_leaf_nodes=5, min_samples_leaf=4, min_samples_split=4,\n",
       "                      n_estimators=1000)"
      ]
     },
     "execution_count": 140,
     "metadata": {},
     "output_type": "execute_result"
    }
   ],
   "source": [
    "model13.fit(x_train,y_train)"
   ]
  },
  {
   "cell_type": "code",
   "execution_count": 141,
   "metadata": {},
   "outputs": [],
   "source": [
    "y_test\n",
    "y=np.array(y_test)"
   ]
  },
  {
   "cell_type": "code",
   "execution_count": 142,
   "metadata": {},
   "outputs": [
    {
     "name": "stderr",
     "output_type": "stream",
     "text": [
      "C:\\Users\\Noureen\\AppData\\Local\\Temp\\ipykernel_8004\\1161862310.py:4: RuntimeWarning: divide by zero encountered in true_divide\n",
      "  percent_error=100*np.mean(errors/y_test)\n"
     ]
    },
    {
     "name": "stdout",
     "output_type": "stream",
     "text": [
      "Model Performance\n",
      "Average Error: 2.2231 degrees.\n",
      "accuracy : 0.9116847530341692\n",
      "accuracy_train : 0.9131921725909672\n"
     ]
    }
   ],
   "source": [
    "evaluate(model13,x_test,y)"
   ]
  },
  {
   "cell_type": "code",
   "execution_count": 134,
   "metadata": {},
   "outputs": [
    {
     "name": "stderr",
     "output_type": "stream",
     "text": [
      "C:\\Users\\Noureen\\AppData\\Local\\Temp\\ipykernel_8004\\3537665411.py:2: DataConversionWarning: A column-vector y was passed when a 1d array was expected. Please change the shape of y to (n_samples,), for example using ravel().\n",
      "  model14.fit(x_train,y_train)\n",
      "C:\\Users\\Noureen\\AppData\\Local\\Temp\\ipykernel_8004\\1161862310.py:4: RuntimeWarning: divide by zero encountered in true_divide\n",
      "  percent_error=100*np.mean(errors/y_test)\n",
      "C:\\Users\\Noureen\\AppData\\Local\\Temp\\ipykernel_8004\\1161862310.py:4: RuntimeWarning: invalid value encountered in true_divide\n",
      "  percent_error=100*np.mean(errors/y_test)\n"
     ]
    },
    {
     "name": "stdout",
     "output_type": "stream",
     "text": [
      "Model Performance\n",
      "Average Error: 2.2875 degrees.\n",
      "accuracy : 0.9559959482001991\n",
      "accuracy_train : 0.9989690911538234\n"
     ]
    }
   ],
   "source": [
    "model14=RandomForestRegressor(random_state=42,max_depth=50)\n",
    "model14.fit(x_train,y_train)\n",
    "predict14=model14.predict(x_test)\n",
    "predict_train14=model14.predict(x_train)\n",
    "\n",
    "evaluate(model14,x_test,y)"
   ]
  }
 ],
 "metadata": {
  "kernelspec": {
   "display_name": "base",
   "language": "python",
   "name": "python3"
  },
  "language_info": {
   "codemirror_mode": {
    "name": "ipython",
    "version": 3
   },
   "file_extension": ".py",
   "mimetype": "text/x-python",
   "name": "python",
   "nbconvert_exporter": "python",
   "pygments_lexer": "ipython3",
   "version": "3.9.12"
  },
  "orig_nbformat": 4,
  "vscode": {
   "interpreter": {
    "hash": "232c7b721369584dfbcbab353b904738a570594b12428178cf98024cc1a5b5f0"
   }
  }
 },
 "nbformat": 4,
 "nbformat_minor": 2
}
